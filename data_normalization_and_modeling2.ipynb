{
 "cells": [
  {
   "cell_type": "code",
   "execution_count": null,
   "id": "c4463c3c-7576-4d04-bb56-581000c9fca2",
   "metadata": {},
   "outputs": [],
   "source": [
    "import numpy as np\n",
    "import pandas as pd\n",
    "import tensorflow as tf\n",
    "from tensorflow import keras\n",
    "from keras.utils.vis_utils import plot_model\n",
    "import csv, pydot, graphviz\n",
    "print('Pandas version: ', pd.__version__)\n",
    "print('Numpy version: ', np.__version__)"
   ]
  },
  {
   "cell_type": "code",
   "execution_count": null,
   "id": "5eea47fb-8933-4316-8705-ddcd73f5ab99",
   "metadata": {},
   "outputs": [],
   "source": [
    "data=pd.read_csv('../dataset/TPE_model_features.csv')\n",
    "data = data.loc[data['鄉鎮市區'] == '中山區']\n",
    "data.insert(80, 'y', data['單價元平方公尺'])\n",
    "data.drop(['單價元平方公尺'],axis=1,inplace=True)\n",
    "data.head()"
   ]
  },
  {
   "cell_type": "code",
   "execution_count": null,
   "id": "a151671f-10c0-48f7-baf0-09aeee7ae97b",
   "metadata": {},
   "outputs": [],
   "source": [
    "print(data.info())"
   ]
  },
  {
   "cell_type": "code",
   "execution_count": null,
   "id": "a01d66f6-9c22-4c37-b97f-db20e20301f3",
   "metadata": {},
   "outputs": [],
   "source": [
    "data.drop(['Unnamed: 0'],axis=1,inplace=True)\n",
    "data.drop(['Unnamed: 0.1'],axis=1,inplace=True)\n",
    "data.drop(['鄉鎮市區'],axis=1,inplace=True)\n",
    "data.drop(['geometry'],axis=1,inplace=True)\n",
    "#data = data[['交易年份','屋齡','交易標的','建物現況格局-房','建物現況格局-廳','建物現況格局-衛','車位類別','電梯','floor','NEAR_HOSTIPAL_500','CLINIC_COUNT_500','DENTIST_COUNT_500','PHARMACY_COUNT_500','CSTORE_COUNT_500','FASTFOOD_COUNT_500','LIBRARY_COUNT_500','NEAR_UNIVERSITY_500','NEAR_FIRESTATION_500','NEAR_FUEL_500','NEAR_MARKET_500','NEAR_POLICE_500','TEMPLE_COUNT_500','CEMETERY_AREA_500','WATER_AREA_500','PARKING_AREA_500','STOP_COUNT_500','NEAR_MRT_500','y']]\n",
    "data.dtypes"
   ]
  },
  {
   "cell_type": "code",
   "execution_count": null,
   "id": "6e6a1339-fb99-48bd-8f3c-8aa0b388cf73",
   "metadata": {},
   "outputs": [],
   "source": [
    "# 2.刪除標準差為0的欄位\n",
    "#data.drop(['NEAR_SCHOOL_500'],axis=1,inplace=True)\n",
    "#data.drop(['NEAR_SCHOOL_250'],axis=1,inplace=True)\n",
    "data.drop(['NEAR_SCHOOL_750'],axis=1,inplace=True)\n",
    "#data.drop(['NEAR_MARKET_250'],axis=1,inplace=True)\n",
    "#data.drop(['NEAR_MARKET_500'],axis=1,inplace=True)\n",
    "#data.drop(['NEAR_MARKET_750'],axis=1,inplace=True)\n",
    "data.drop(['NEAR_LRT_250'],axis=1,inplace=True)\n",
    "data.drop(['NEAR_LRT_500'],axis=1,inplace=True)\n",
    "data.drop(['NEAR_LRT_750'],axis=1,inplace=True)\n",
    "data.drop(['NEAR_TRA_250'],axis=1,inplace=True)\n",
    "#data.drop(['NEAR_TRA_500'],axis=1,inplace=True)\n",
    "#data.drop(['NEAR_TRA_750'],axis=1,inplace=True)\n",
    "#data.drop(['CEMETERY_AREA_250'],axis=1,inplace=True)\n",
    "#data.drop(['CEMETERY_AREA_500'],axis=1,inplace=True)\n",
    "#data.drop(['CEMETERY_AREA_750'],axis=1,inplace=True)\n",
    "#data.drop(['NEAR_POLICE_250'],axis=1,inplace=True)\n",
    "#data.drop(['NEAR_POLICE_500'],axis=1,inplace=True)\n",
    "#data.drop(['NEAR_POLICE_750'],axis=1,inplace=True)"
   ]
  },
  {
   "cell_type": "code",
   "execution_count": null,
   "id": "3375f576-83ff-4ebf-82d4-5d61152b8f3c",
   "metadata": {},
   "outputs": [],
   "source": [
    "data = data.sample(frac=1.0)\n",
    "data = data.reset_index()\n",
    "train_data = data.sample(frac=0.8)\n",
    "train_data"
   ]
  },
  {
   "cell_type": "code",
   "execution_count": null,
   "id": "62987138-a6de-44dd-bbac-658e5986c903",
   "metadata": {},
   "outputs": [],
   "source": [
    "data2 = data[~data.index.isin(train_data.index)]"
   ]
  },
  {
   "cell_type": "code",
   "execution_count": null,
   "id": "f08d8dc1-9b4e-4435-9a46-48d162c9d825",
   "metadata": {},
   "outputs": [],
   "source": [
    "val_data = data2.sample(frac=0.5)\n",
    "test_data = data2[~data2.index.isin(val_data.index)]"
   ]
  },
  {
   "cell_type": "code",
   "execution_count": null,
   "id": "fb6f075b-095c-497c-9a52-77dae80f3efd",
   "metadata": {},
   "outputs": [],
   "source": [
    "train_data.drop(['index'],axis=1,inplace=True)\n",
    "val_data.drop(['index'],axis=1,inplace=True)\n",
    "test_data.drop(['index'],axis=1,inplace=True)"
   ]
  },
  {
   "cell_type": "code",
   "execution_count": null,
   "id": "f1066200-b0a3-42f1-ada2-02037cb5708e",
   "metadata": {},
   "outputs": [],
   "source": [
    "# 1.做到這邊要檢視資料!!!!!!!!!!!回到2.刪除標差為0.\n",
    "train_validation_data = pd.concat([train_data, val_data])\n",
    "mean = train_validation_data.mean()\n",
    "std = train_validation_data.std()\n",
    "train_data = (train_data-mean)/std\n",
    "val_data = (val_data -mean)/std\n",
    "#print(mean)\n",
    "mean_df = pd.DataFrame(mean)\n",
    "mean_df.to_csv('mean.csv')\n",
    "std_df = pd.DataFrame(std)\n",
    "std_df.to_csv('std.csv')"
   ]
  },
  {
   "cell_type": "code",
   "execution_count": null,
   "id": "30d753bd-e45b-40cb-92fc-180ef3f0bc72",
   "metadata": {},
   "outputs": [],
   "source": [
    "#修改X_data = np.array(train_data[train_data.columns[0:?]])\n",
    "#X_val = np.array(val_data[val_data.columns[0:?]])\n",
    "X_data = np.array(train_data[train_data.columns[0:72]])\n",
    "y_data = np.array(train_data[train_data.columns[-1]]).reshape(len(train_data),1)\n",
    "X_val = np.array(val_data[val_data.columns[0:72]])\n",
    "y_val = np.array(val_data[val_data.columns[-1]]).reshape(len(val_data),1)\n",
    "\n",
    "print(X_data.shape,type(X_data))\n",
    "print(y_data.shape,type(y_data))"
   ]
  },
  {
   "cell_type": "code",
   "execution_count": null,
   "id": "b55a2b6a-111c-46bf-b750-d1225d33736a",
   "metadata": {},
   "outputs": [],
   "source": [
    "#檢視std.CSV修改model.add(keras.layers.Dense(?, activation='relu', input_shape=(?,)))\n",
    "model = tf.keras.Sequential()\n",
    "model.add(keras.layers.Dense(71, activation='relu', input_shape=(71,))) \n",
    "model.add(keras.layers.Dense(24, activation='relu'))\n",
    "model.add(keras.layers.Dense(1)) "
   ]
  },
  {
   "cell_type": "code",
   "execution_count": null,
   "id": "125521f0-e438-460f-9645-b41b191faf80",
   "metadata": {},
   "outputs": [],
   "source": [
    "model.compile(keras.optimizers.Adam(0.0001),\n",
    "loss=keras.losses.MeanSquaredError(),\n",
    "metrics=[keras.metrics.MeanAbsoluteError()])"
   ]
  },
  {
   "cell_type": "code",
   "execution_count": null,
   "id": "252d8a5f-d927-4a99-8206-4faf5e8a2a39",
   "metadata": {},
   "outputs": [],
   "source": [
    "model_mckp=keras.callbacks.ModelCheckpoint('TPE_chunshan_model-1.h5',\n",
    "monitor='val_mean_absolute_error',\n",
    "save_best_only=True,\n",
    "mode='min')"
   ]
  },
  {
   "cell_type": "code",
   "execution_count": null,
   "id": "10d50e0d-f4a5-4992-898c-979766e2ddb0",
   "metadata": {},
   "outputs": [],
   "source": [
    "model_cbk=keras.callbacks.TensorBoard()\n",
    "history = model.fit(X_data, y_data,\n",
    "batch_size=20,  \n",
    "epochs=200, \n",
    "validation_data=(X_val, y_val),  \n",
    "callbacks=[model_cbk, model_mckp])"
   ]
  },
  {
   "cell_type": "code",
   "execution_count": null,
   "id": "08afac41-cd75-47b6-8d53-1e30c375dcbd",
   "metadata": {},
   "outputs": [],
   "source": []
  },
  {
   "cell_type": "code",
   "execution_count": null,
   "id": "dd263f04-dfbf-4871-99c9-30bb65b2223b",
   "metadata": {},
   "outputs": [],
   "source": [
    "import matplotlib.pyplot as plt"
   ]
  },
  {
   "cell_type": "code",
   "execution_count": null,
   "id": "c86b28cb-a8ee-4ff2-87fe-c2bdbe364d08",
   "metadata": {},
   "outputs": [],
   "source": [
    "plt.plot(history.history['loss'], label='train')\n",
    "plt.plot(history.history['val_loss'], label='validation')\n",
    "plt.title('MSE')\n",
    "plt.ylabel('loss')\n",
    "plt.xlabel('epochs')\n",
    "plt.legend(loc='best')"
   ]
  },
  {
   "cell_type": "code",
   "execution_count": null,
   "id": "4c3f4267-eb01-4728-9255-64ea1648bdc0",
   "metadata": {},
   "outputs": [],
   "source": [
    "plt.plot(history.history['mean_absolute_error'], label='train')\n",
    "plt.plot(history.history['val_mean_absolute_error'], label='validation')\n",
    "plt.title('MAE')\n",
    "plt.ylabel('metrics')\n",
    "plt.xlabel('epochs')\n",
    "plt.legend(loc='best')"
   ]
  },
  {
   "cell_type": "code",
   "execution_count": null,
   "id": "9fcfa702-5267-4cbb-aed0-c501930f9747",
   "metadata": {},
   "outputs": [],
   "source": [
    "#修改x_test = np.array(test_data[test_data.columns[0:?]])\n",
    "model = keras.models.load_model('TPE_chunshan_model-1.h5')\n",
    "y_test = np.array(test_data[test_data.columns[-1]]).reshape(len(test_data),1)\n",
    "test_data = (test_data - mean) / std\n",
    "x_test = np.array(test_data[test_data.columns[0:71]])\n",
    "y_pred = model.predict(x_test)\n",
    "y_pred = np.reshape(y_pred * std['y'] + mean['y'], y_test.shape)\n",
    "percentage_error = np.mean(np.abs(y_test - y_pred)) / np.mean(y_test) * 100\n",
    "print(\"Model Percentage Error: {:.2f}%\".format(percentage_error))"
   ]
  },
  {
   "cell_type": "code",
   "execution_count": null,
   "id": "68f45443-dc5b-45d5-aed8-f8b717230e93",
   "metadata": {},
   "outputs": [],
   "source": [
    "print(type(y_test))\n",
    "print(type(y_pred))"
   ]
  },
  {
   "cell_type": "code",
   "execution_count": null,
   "id": "674e1e4e-b11d-4a36-8e06-591fac348480",
   "metadata": {},
   "outputs": [],
   "source": [
    "y_test = pd.DataFrame(y_test)\n",
    "y_pred = pd.DataFrame(y_pred)\n",
    "result = pd.concat([y_test, y_pred],axis=1)\n",
    "result.to_csv('chunshan_result.csv')"
   ]
  },
  {
   "cell_type": "code",
   "execution_count": null,
   "id": "5ff5e5ed-c49d-4b8e-ac8a-ece3a2f3587e",
   "metadata": {},
   "outputs": [],
   "source": [
    "model.layers[0].get_config()"
   ]
  },
  {
   "cell_type": "code",
   "execution_count": null,
   "id": "a01bb93a-0136-4712-843b-4b8de6742a8b",
   "metadata": {},
   "outputs": [],
   "source": [
    "model.layers[0].get_weights()"
   ]
  },
  {
   "cell_type": "code",
   "execution_count": null,
   "id": "34ec27fa-acb1-47f7-bb29-d65680d617e3",
   "metadata": {},
   "outputs": [],
   "source": [
    "print(model.summary())"
   ]
  },
  {
   "cell_type": "code",
   "execution_count": null,
   "id": "3a756868-6dce-4940-afd9-b51f80da1483",
   "metadata": {},
   "outputs": [],
   "source": []
  }
 ],
 "metadata": {
  "kernelspec": {
   "display_name": "Python 3 (ipykernel)",
   "language": "python",
   "name": "python3"
  },
  "language_info": {
   "codemirror_mode": {
    "name": "ipython",
    "version": 3
   },
   "file_extension": ".py",
   "mimetype": "text/x-python",
   "name": "python",
   "nbconvert_exporter": "python",
   "pygments_lexer": "ipython3",
   "version": "3.10.5"
  }
 },
 "nbformat": 4,
 "nbformat_minor": 5
}
